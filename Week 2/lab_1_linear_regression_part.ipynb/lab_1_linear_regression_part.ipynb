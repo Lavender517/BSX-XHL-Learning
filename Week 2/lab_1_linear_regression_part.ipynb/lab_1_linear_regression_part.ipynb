{
 "cells": [
  {
   "cell_type": "markdown",
   "metadata": {},
   "source": [
    "#  Lab 1: Regression \n",
    "## Simple Linear Regression"
   ]
  },
  {
   "cell_type": "markdown",
   "metadata": {},
   "source": [
    "In this notebook we are going to implement simple (one input) linear regression. You will be provided with some already complete code as well as some code that you should complete yourself. In particular, you will have to:\n",
    "* Complete the function `paramEstimates` to implement linear regression algorithm.\n",
    "* Complete the function `linearRegrNEWPredict` to implement linear regression algorithm.\n",
    "* Complete the function `SSR` to compute the sum of squared residuals.\n",
    "\n"
   ]
  },
  {
   "cell_type": "markdown",
   "metadata": {},
   "source": [
    "# Import libraries"
   ]
  },
  {
   "cell_type": "markdown",
   "metadata": {},
   "source": [
    "The required libraries for this notebook are pandas, sklearn, numpy and matplotlib."
   ]
  },
  {
   "cell_type": "code",
   "execution_count": 18,
   "metadata": {},
   "outputs": [],
   "source": [
    "import pandas\n",
    "from sklearn.model_selection import train_test_split\n",
    "from sklearn.linear_model import LinearRegression\n",
    "import numpy as np\n",
    "import matplotlib.pyplot as plt\n",
    "from sklearn import datasets, linear_model\n",
    "from sklearn.metrics import mean_squared_error, r2_score"
   ]
  },
  {
   "cell_type": "markdown",
   "metadata": {},
   "source": [
    "# Load the data\n",
    "The data we are using is from ***regression data.csv***. It consists of 260 data points related to house prices where each data point has 9 features."
   ]
  },
  {
   "cell_type": "code",
   "execution_count": 19,
   "metadata": {},
   "outputs": [
    {
     "data": {
      "text/html": [
       "<div>\n",
       "<style scoped>\n",
       "    .dataframe tbody tr th:only-of-type {\n",
       "        vertical-align: middle;\n",
       "    }\n",
       "\n",
       "    .dataframe tbody tr th {\n",
       "        vertical-align: top;\n",
       "    }\n",
       "\n",
       "    .dataframe thead th {\n",
       "        text-align: right;\n",
       "    }\n",
       "</style>\n",
       "<table border=\"1\" class=\"dataframe\">\n",
       "  <thead>\n",
       "    <tr style=\"text-align: right;\">\n",
       "      <th></th>\n",
       "      <th>Price (Older)</th>\n",
       "      <th>Price (New)</th>\n",
       "    </tr>\n",
       "  </thead>\n",
       "  <tbody>\n",
       "    <tr>\n",
       "      <th>0</th>\n",
       "      <td>1524</td>\n",
       "      <td>2107</td>\n",
       "    </tr>\n",
       "    <tr>\n",
       "      <th>1</th>\n",
       "      <td>1542</td>\n",
       "      <td>2107</td>\n",
       "    </tr>\n",
       "    <tr>\n",
       "      <th>2</th>\n",
       "      <td>1542</td>\n",
       "      <td>2107</td>\n",
       "    </tr>\n",
       "    <tr>\n",
       "      <th>3</th>\n",
       "      <td>1524</td>\n",
       "      <td>2117</td>\n",
       "    </tr>\n",
       "    <tr>\n",
       "      <th>4</th>\n",
       "      <td>1542</td>\n",
       "      <td>2117</td>\n",
       "    </tr>\n",
       "    <tr>\n",
       "      <th>...</th>\n",
       "      <td>...</td>\n",
       "      <td>...</td>\n",
       "    </tr>\n",
       "    <tr>\n",
       "      <th>256</th>\n",
       "      <td>0</td>\n",
       "      <td>218725</td>\n",
       "    </tr>\n",
       "    <tr>\n",
       "      <th>257</th>\n",
       "      <td>0</td>\n",
       "      <td>216824</td>\n",
       "    </tr>\n",
       "    <tr>\n",
       "      <th>258</th>\n",
       "      <td>0</td>\n",
       "      <td>223315</td>\n",
       "    </tr>\n",
       "    <tr>\n",
       "      <th>259</th>\n",
       "      <td>0</td>\n",
       "      <td>224273</td>\n",
       "    </tr>\n",
       "    <tr>\n",
       "      <th>260</th>\n",
       "      <td>0</td>\n",
       "      <td>233723</td>\n",
       "    </tr>\n",
       "  </tbody>\n",
       "</table>\n",
       "<p>261 rows × 2 columns</p>\n",
       "</div>"
      ],
      "text/plain": [
       "     Price (Older)  Price (New)\n",
       "0             1524         2107\n",
       "1             1542         2107\n",
       "2             1542         2107\n",
       "3             1524         2117\n",
       "4             1542         2117\n",
       "..             ...          ...\n",
       "256              0       218725\n",
       "257              0       216824\n",
       "258              0       223315\n",
       "259              0       224273\n",
       "260              0       233723\n",
       "\n",
       "[261 rows x 2 columns]"
      ]
     },
     "execution_count": 19,
     "metadata": {},
     "output_type": "execute_result"
    }
   ],
   "source": [
    "# Loading the CSV file\n",
    "# houseprice=pandas.read_csv('./datasets/regression_data.csv')\n",
    "houseprice=pandas.read_csv('./regression_data.csv')\n",
    "houseprice=houseprice[['Price (Older)', 'Price (New)']] # Choose 2 columns \n",
    "houseprice\n"
   ]
  },
  {
   "cell_type": "markdown",
   "metadata": {},
   "source": [
    "# Split data into training and testing"
   ]
  },
  {
   "cell_type": "code",
   "execution_count": 20,
   "metadata": {},
   "outputs": [
    {
     "name": "stdout",
     "output_type": "stream",
     "text": [
      "261\n"
     ]
    }
   ],
   "source": [
    "# Split the data\n",
    "X=houseprice[['Price (Older)']] #二维是为了传入样本，使得每一行为一个样本\n",
    "# X=houseprice['Price (Older)']\n",
    "print(len(X.values))\n",
    "Y=houseprice[['Price (New)']]\n",
    "\n",
    "# Split the data into training and testing(75% training and 25% testing data)\n",
    "xTrain,xTest,yTrain,yTest = train_test_split(X,Y)\n"
   ]
  },
  {
   "cell_type": "markdown",
   "metadata": {},
   "source": [
    "# Use simple linear regression from a library"
   ]
  },
  {
   "cell_type": "markdown",
   "metadata": {},
   "source": [
    "We will first see how simple linear regression can be implemented using built-in functions from the scikit-learn library."
   ]
  },
  {
   "cell_type": "code",
   "execution_count": 21,
   "metadata": {},
   "outputs": [
    {
     "data": {
      "image/png": "[encoded data removed]",
      "text/plain": [
       "<Figure size 432x288 with 1 Axes>"
      ]
     },
     "metadata": {
      "needs_background": "light"
     },
     "output_type": "display_data"
    }
   ],
   "source": [
    "# sklearn functions implementation\n",
    "def linearRegrPredict(xTrain, yTrain, xTest):\n",
    "    # Create linear regression object\n",
    "    regr=LinearRegression()\n",
    "    # Train the model using the training sets\n",
    "    regr.fit(xTrain, yTrain)\n",
    "    # Make predictions using the testing set\n",
    "    y_pred = regr.predict(xTest)\n",
    "    #print(\"Accuracy Score:\",regr.score(xTest,yTest))\n",
    "    return y_pred\n",
    "\n",
    "\n",
    "y_pred = linearRegrPredict(xTrain, yTrain, xTest)\n",
    "\n",
    "\n",
    "# Plot testing set predictions\n",
    "plt.scatter(xTest, yTest) #绘制散点图\n",
    "plt.scatter(xTest, y_pred, c='r', marker='x')\n",
    "plt.plot(xTest, y_pred, 'r-') #plot the figure with red solid line 绘制直线\n",
    "plt.show()\n",
    "\n"
   ]
  },
  {
   "cell_type": "markdown",
   "metadata": {},
   "source": [
    "# Implement your own simple linear regression function "
   ]
  },
  {
   "cell_type": "markdown",
   "metadata": {},
   "source": [
    "You will be given the `paramEstimates(xTrain, yTrain)` function that estimates the linear regression parameters alpha and beta as follows:\n",
    "$$\n",
    "\\begin{align}\n",
    "\\hat{\\beta} & =  \\frac{\\sum_{i=1}^n x_i\\left(y_i - \\bar{y} \\right)}{\\sum_{i=1}^n x_i\\left(x_i - \\bar{x} \\right)}\\\\\n",
    "\\hat{\\alpha} & = \\bar{y}-\\hat{\\beta}\\bar{x}\n",
    "\\end{align}\n",
    "$$\n",
    "\n",
    "You have, however, to complete the `linearRegrNEWPredict(xTrain, yTrain, xTest)` function, or write your own, that returns the output variable y given the input x as follows: \n",
    "$$\n",
    "\\begin{align}\n",
    "\\hat{y} & = \\hat{\\alpha}+\\hat{\\beta}x\n",
    "\\end{align}\n",
    "$$\n",
    "\n",
    "***Remember that we train on `xTrain` and `yTrain`!***"
   ]
  },
  {
   "cell_type": "code",
   "execution_count": 25,
   "metadata": {},
   "outputs": [],
   "source": [
    "# Transform dataframes to numpy arrays\n",
    "xTrain1=np.array(xTrain.values)\n",
    "# print(xTrain1)\n",
    "xTrain1=np.array(xTrain.values).flatten() #返回一个一维数组，a.flatten()就是把a降到一维，默认是按行的方向降 \n",
    "# print(\"After flattened:\", xTrain1)\n",
    "xTest1=np.array(xTest.values).flatten()\n",
    "yTrain1=np.array(yTrain.values).flatten()\n",
    "yTest1=np.array(yTest.values).flatten()"
   ]
  },
  {
   "cell_type": "code",
   "execution_count": 23,
   "metadata": {},
   "outputs": [
    {
     "name": "stdout",
     "output_type": "stream",
     "text": [
      "15146.494033642113\n",
      "0.9498859996330192\n"
     ]
    },
    {
     "data": {
      "image/png": "[encoded data removed]",
      "text/plain": [
       "<Figure size 432x288 with 1 Axes>"
      ]
     },
     "metadata": {
      "needs_background": "light"
     },
     "output_type": "display_data"
    }
   ],
   "source": [
    "def paramEstimates(xTrain, yTrain):\n",
    "    beta = np.sum(np.multiply(xTrain,(np.add(yTrain, -np.mean(yTrain))))) / np.sum(np.multiply(xTrain, (np.add(xTrain, - np.mean(xTrain)))))\n",
    "    \n",
    "    # Complete the code here.\n",
    "\n",
    "    alpha = np.mean(yTrain) - beta*np.mean(xTrain)\n",
    "    return alpha, beta\n",
    "\n",
    "\n",
    "def linearRegrNEWPredict(xTrain, yTrain, xTest):\n",
    "    alpha, beta = paramEstimates(xTrain, yTrain)\n",
    "    print(alpha)\n",
    "    print(beta)\n",
    "    # Complete the code here.\n",
    "    y_pred1 = np.add(alpha, np.multiply(beta, xTest))\n",
    "    return y_pred1\n",
    "\n",
    " \n",
    "y_pred1=linearRegrNEWPredict(xTrain1, yTrain1,xTest1)\n",
    "\n",
    "\n",
    "#Plot testing set predictions\n",
    "plt.scatter(xTest, yTest)\n",
    "plt.plot(xTest1, y_pred1, 'r-')\n",
    "plt.show()\n",
    "\n"
   ]
  },
  {
   "cell_type": "markdown",
   "metadata": {},
   "source": [
    "# Sum of Squared Residuals"
   ]
  },
  {
   "cell_type": "markdown",
   "metadata": {},
   "source": [
    "You are now asked to write a simple function `SSR(y, y_pred)` that computes the sum of the squared\n",
    "residuals (SSR). Remember that the SSR is the sum of the squares of the difference between the predicted outputs $(\\hat{y_i}$) and the true output $(y_i$), as follows:\n",
    "$$\n",
    "\\begin{align}\n",
    "SSR\\left(y_i,\\hat{y_i} \\right) & =  \\sum_{i=1}^n \\left(y_i - \\hat{y_i} \\right)^2\\\\\n",
    "\\end{align}\n",
    "$$\n",
    "Complete the following (or write your own) function to compute the SSR associated with the predictions delivered by your own or the library's implementation of simple linear regression."
   ]
  },
  {
   "cell_type": "code",
   "execution_count": 24,
   "metadata": {
    "scrolled": true
   },
   "outputs": [
    {
     "name": "stdout",
     "output_type": "stream",
     "text": [
      "Scikit-learn linear regression SSR: 209854694048.9101\n",
      "Our implementation of linear regression SSR: 209854694048.9101\n"
     ]
    }
   ],
   "source": [
    "def SSR(yTest, y_pred):\n",
    "    # Complete the code here.\n",
    "    ssr = np.sum((np.subtract(yTest, y_pred))**2)\n",
    "    return ssr\n",
    "\n",
    "y_pred_SSR = SSR(yTest,y_pred)\n",
    "y_pred1_SSR = SSR(yTest1,y_pred1)\n",
    "\n",
    "print(\"Scikit-learn linear regression SSR: %.4f\" % y_pred_SSR)\n",
    "print(\"Our implementation of linear regression SSR: %.4f\" % y_pred1_SSR)\n"
   ]
  }
 ],
 "metadata": {
  "anaconda-cloud": {},
  "interpreter": {
   "hash": "861c7791551ba58c0079a3088385b1ef3804130c045fe04635e52c35e1921da6"
  },
  "kernelspec": {
   "display_name": "Python 3.7.11 64-bit ('IMLS': conda)",
   "name": "python3"
  },
  "language_info": {
   "codemirror_mode": {
    "name": "ipython",
    "version": 3
   },
   "file_extension": ".py",
   "mimetype": "text/x-python",
   "name": "python",
   "nbconvert_exporter": "python",
   "pygments_lexer": "ipython3",
   "version": "3.7.11"
  }
 },
 "nbformat": 4,
 "nbformat_minor": 1
}
